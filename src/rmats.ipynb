{
 "cells": [
  {
   "cell_type": "code",
   "execution_count": 1,
   "metadata": {},
   "outputs": [],
   "source": [
    "from pathlib import Path\n",
    "import subprocess"
   ]
  },
  {
   "attachments": {},
   "cell_type": "markdown",
   "metadata": {},
   "source": [
    "# MOUSE"
   ]
  },
  {
   "cell_type": "code",
   "execution_count": 10,
   "metadata": {},
   "outputs": [
    {
     "data": {
      "text/plain": [
       "['/rsrch4/home/mol_cgenesis/EMC_BIC_rsrch4/nkdang/Splicing_Projects/new/data/alignments_clean_TOPHAT/31329-KI-1/accepted_hits.bam',\n",
       " '/rsrch4/home/mol_cgenesis/EMC_BIC_rsrch4/nkdang/Splicing_Projects/new/data/alignments_clean_TOPHAT/31325-KI-2/accepted_hits.bam',\n",
       " '/rsrch4/home/mol_cgenesis/EMC_BIC_rsrch4/nkdang/Splicing_Projects/new/data/alignments_clean_TOPHAT/31332-KI-3/accepted_hits.bam',\n",
       " '/rsrch4/home/mol_cgenesis/EMC_BIC_rsrch4/nkdang/Splicing_Projects/new/data/alignments_clean_TOPHAT/31372-KO-1/accepted_hits.bam',\n",
       " '/rsrch4/home/mol_cgenesis/EMC_BIC_rsrch4/nkdang/Splicing_Projects/new/data/alignments_clean_TOPHAT/31371-KO-2/accepted_hits.bam',\n",
       " '/rsrch4/home/mol_cgenesis/EMC_BIC_rsrch4/nkdang/Splicing_Projects/new/data/alignments_clean_TOPHAT/31373-KO-3/accepted_hits.bam',\n",
       " '/rsrch4/home/mol_cgenesis/EMC_BIC_rsrch4/nkdang/Splicing_Projects/new/data/alignments_clean_TOPHAT/31351-P5-OE-1/accepted_hits.bam',\n",
       " '/rsrch4/home/mol_cgenesis/EMC_BIC_rsrch4/nkdang/Splicing_Projects/new/data/alignments_clean_TOPHAT/31284-P5-OE-2/accepted_hits.bam',\n",
       " '/rsrch4/home/mol_cgenesis/EMC_BIC_rsrch4/nkdang/Splicing_Projects/new/data/alignments_clean_TOPHAT/21415-P5-OE-3/accepted_hits.bam',\n",
       " '/rsrch4/home/mol_cgenesis/EMC_BIC_rsrch4/nkdang/Splicing_Projects/new/data/alignments_clean_TOPHAT/31391-P5-WT-1/accepted_hits.bam',\n",
       " '/rsrch4/home/mol_cgenesis/EMC_BIC_rsrch4/nkdang/Splicing_Projects/new/data/alignments_clean_TOPHAT/31396-P5-WT-2/accepted_hits.bam',\n",
       " '/rsrch4/home/mol_cgenesis/EMC_BIC_rsrch4/nkdang/Splicing_Projects/new/data/alignments_clean_TOPHAT/31395-P5-WT-3/accepted_hits.bam',\n",
       " '/rsrch4/home/mol_cgenesis/EMC_BIC_rsrch4/nkdang/Splicing_Projects/new/data/alignments_clean_TOPHAT/31385-WT-1/accepted_hits.bam',\n",
       " '/rsrch4/home/mol_cgenesis/EMC_BIC_rsrch4/nkdang/Splicing_Projects/new/data/alignments_clean_TOPHAT/31387-WT-2/accepted_hits.bam',\n",
       " '/rsrch4/home/mol_cgenesis/EMC_BIC_rsrch4/nkdang/Splicing_Projects/new/data/alignments_clean_TOPHAT/31379-WT-3/accepted_hits.bam']"
      ]
     },
     "execution_count": 10,
     "metadata": {},
     "output_type": "execute_result"
    }
   ],
   "source": [
    "ls_m = []\n",
    "for file in Path(\"/rsrch4/home/mol_cgenesis/EMC_BIC_rsrch4/nkdang/Splicing_Projects/new/data/alignments_clean_TOPHAT\").glob(\"**/accepted_hits.bam\"):\n",
    "    if str(file.parent.stem)[0].isdigit():   \n",
    "        ls_m.append(str(file))\n",
    "ls_m = sorted(ls_m, key=lambda x: x.split(\"/\")[-2][6:])\n",
    "ls_m"
   ]
  },
  {
   "cell_type": "code",
   "execution_count": 11,
   "metadata": {},
   "outputs": [
    {
     "name": "stdout",
     "output_type": "stream",
     "text": [
      "Job <23547794> is submitted to queue <medium>.\n",
      "Job <23547795> is submitted to queue <medium>.\n",
      "Job <23547796> is submitted to queue <medium>.\n"
     ]
    }
   ],
   "source": [
    "name = \"rMATS\"  \n",
    "out_dir = Path(f\"/rsrch4/home/mol_cgenesis/EMC_BIC_rsrch4/nkdang/Splicing_Projects/new/{name}\")\n",
    "out_dir.mkdir(parents=True, exist_ok=True)\n",
    "\n",
    "log_dir = Path(\n",
    "    f\"/rsrch4/home/mol_cgenesis/EMC_BIC_rsrch4/nkdang/Splicing_Projects/new/log/{name}\")\n",
    "log_dir.mkdir(parents=True, exist_ok=True)\n",
    "\n",
    "path_lsf = Path(\n",
    "    f\"/rsrch4/home/mol_cgenesis/EMC_BIC_rsrch4/nkdang/Splicing_Projects/new/lsf/{name}\")\n",
    "path_lsf.mkdir(parents=True, exist_ok=True)\n",
    "\n",
    "\n",
    "for k1, k2, filename in [(\"-P5-WT-\",\"-P5-OE-\", \"Tanner_P5WT_P5OE\"),\n",
    "                         (\"-WT-\",\"-KO-\", \"Tanner_WT_KO\"),\n",
    "                         (\"-WT-\",\"-KI-\", \"Tanner_WT_KI\")]:\n",
    "\n",
    "    g1 = [i for i in ls_m if k1 in i]\n",
    "    g2 = [i for i in ls_m if k2 in i]\n",
    "    # print(g1,g2)\n",
    "    if \"-P5-\" in g1[0]:\n",
    "        ls_m = [item for item in ls_m if item not in g1]\n",
    "    Path(f\"rMATS/input\").mkdir(parents=True, exist_ok=True)\n",
    "    Path(f\"rMATS/mouse/{filename}\").mkdir(parents=True, exist_ok=True)\n",
    "    Path(f\"rMATS/mouse/temp/{filename}\").mkdir(parents=True, exist_ok=True)\n",
    "    \n",
    "    b1 = f\"/rsrch4/home/mol_cgenesis/EMC_BIC_rsrch4/nkdang/Splicing_Projects/new/rMATS/input/{filename}_s1.txt\"\n",
    "    with open(b1, \"w+\") as f:\n",
    "        f.write(','.join(g1))\n",
    "    b2 = f\"/rsrch4/home/mol_cgenesis/EMC_BIC_rsrch4/nkdang/Splicing_Projects/new/rMATS/input/{filename}_s2.txt\"\n",
    "    with open(b2, \"w+\") as f:\n",
    "        f.write(','.join(g2))\n",
    "    command = f\"#BSUB -W 24:00\\n\" \\\n",
    "                f\"#BSUB -q medium\\n\" \\\n",
    "                f\"#BSUB -n 12\\n\" \\\n",
    "                f\"#BSUB -M 128\\n\" \\\n",
    "                f\"#BSUB -R rusage[mem=128]\\n\" \\\n",
    "                \"#BSUB –u nkdang@mdanderson.org\\n\" \\\n",
    "                f\"#BSUB -J rMATS_{filename}\\n\" \\\n",
    "                f\"#BSUB -o {log_dir.joinpath(filename+'.log')}\\n\" \\\n",
    "                f\"#BSUB –cwd /rsrch4/home/mol_cgenesis/EMC_BIC_rsrch4/nkdang/Splicing_Projects\\n\" \\\n",
    "                f\"python /rsrch4/home/mol_cgenesis/nkdang/mambaforge/envs/rnaseq/rMATS/rmats.py --b1 {b1} --b2 {b2} --gtf ref/gencode.vM31.primary_assembly.annotation.gtf --bi ref/m39_index -t paired --readLength 150 --nthread 12 --od new/rMATS/mouse/{filename} --tmp new/rMATS/mouse/temp/{filename}\"\n",
    "\n",
    "    with open(path_lsf.joinpath(f'{filename}.lsf'), \"w+\") as out:\n",
    "        out.writelines(command)\n",
    "\n",
    "    command = f\"bsub < {path_lsf.joinpath(f'{filename}.lsf')}\"\n",
    "    # print(command)\n",
    "    subprocess.Popen(command, shell=True)"
   ]
  },
  {
   "attachments": {},
   "cell_type": "markdown",
   "metadata": {},
   "source": [
    "# HUMAN"
   ]
  },
  {
   "cell_type": "code",
   "execution_count": 12,
   "metadata": {},
   "outputs": [
    {
     "data": {
      "text/plain": [
       "['/rsrch4/home/mol_cgenesis/EMC_BIC_rsrch4/nkdang/Splicing_Projects/new/data/alignments_clean_TOPHAT/RFH838-DMSOR-DMSO-R1/accepted_hits.bam',\n",
       " '/rsrch4/home/mol_cgenesis/EMC_BIC_rsrch4/nkdang/Splicing_Projects/new/data/alignments_clean_TOPHAT/RFH838-DMSOR-DMSO-R2/accepted_hits.bam',\n",
       " '/rsrch4/home/mol_cgenesis/EMC_BIC_rsrch4/nkdang/Splicing_Projects/new/data/alignments_clean_TOPHAT/RFH838-DMSOR-DMSO-R3/accepted_hits.bam',\n",
       " '/rsrch4/home/mol_cgenesis/EMC_BIC_rsrch4/nkdang/Splicing_Projects/new/data/alignments_clean_TOPHAT/RFH838-DMSOR-MRTX-R1/accepted_hits.bam',\n",
       " '/rsrch4/home/mol_cgenesis/EMC_BIC_rsrch4/nkdang/Splicing_Projects/new/data/alignments_clean_TOPHAT/RFH838-DMSOR-MRTX-R2/accepted_hits.bam',\n",
       " '/rsrch4/home/mol_cgenesis/EMC_BIC_rsrch4/nkdang/Splicing_Projects/new/data/alignments_clean_TOPHAT/RFH838-DMSOR-MRTX-R3/accepted_hits.bam',\n",
       " '/rsrch4/home/mol_cgenesis/EMC_BIC_rsrch4/nkdang/Splicing_Projects/new/data/alignments_clean_TOPHAT/RFH838-MRTXR-DMSO-R1/accepted_hits.bam',\n",
       " '/rsrch4/home/mol_cgenesis/EMC_BIC_rsrch4/nkdang/Splicing_Projects/new/data/alignments_clean_TOPHAT/RFH838-MRTXR-DMSO-R2/accepted_hits.bam',\n",
       " '/rsrch4/home/mol_cgenesis/EMC_BIC_rsrch4/nkdang/Splicing_Projects/new/data/alignments_clean_TOPHAT/RFH838-MRTXR-DMSO-R3/accepted_hits.bam',\n",
       " '/rsrch4/home/mol_cgenesis/EMC_BIC_rsrch4/nkdang/Splicing_Projects/new/data/alignments_clean_TOPHAT/RFH838-MRXTR-MRTX-R1/accepted_hits.bam',\n",
       " '/rsrch4/home/mol_cgenesis/EMC_BIC_rsrch4/nkdang/Splicing_Projects/new/data/alignments_clean_TOPHAT/RFH838-MRXTR-MRTX-R2/accepted_hits.bam',\n",
       " '/rsrch4/home/mol_cgenesis/EMC_BIC_rsrch4/nkdang/Splicing_Projects/new/data/alignments_clean_TOPHAT/RFH838-MRXTR-MRTX-R3/accepted_hits.bam',\n",
       " '/rsrch4/home/mol_cgenesis/EMC_BIC_rsrch4/nkdang/Splicing_Projects/new/data/alignments_clean_TOPHAT/RFH1437-DMSOR-DMSO-R1/accepted_hits.bam',\n",
       " '/rsrch4/home/mol_cgenesis/EMC_BIC_rsrch4/nkdang/Splicing_Projects/new/data/alignments_clean_TOPHAT/RFH1437-DMSOR-DMSO-R2/accepted_hits.bam',\n",
       " '/rsrch4/home/mol_cgenesis/EMC_BIC_rsrch4/nkdang/Splicing_Projects/new/data/alignments_clean_TOPHAT/RFH1437-DMSOR-DMSO-R3/accepted_hits.bam',\n",
       " '/rsrch4/home/mol_cgenesis/EMC_BIC_rsrch4/nkdang/Splicing_Projects/new/data/alignments_clean_TOPHAT/RFH1437-DMSOR-MRTX-R1/accepted_hits.bam',\n",
       " '/rsrch4/home/mol_cgenesis/EMC_BIC_rsrch4/nkdang/Splicing_Projects/new/data/alignments_clean_TOPHAT/RFH1437-DMSOR-MRTX-R2/accepted_hits.bam',\n",
       " '/rsrch4/home/mol_cgenesis/EMC_BIC_rsrch4/nkdang/Splicing_Projects/new/data/alignments_clean_TOPHAT/RFH1437-DMSOR-MRTX-R3/accepted_hits.bam',\n",
       " '/rsrch4/home/mol_cgenesis/EMC_BIC_rsrch4/nkdang/Splicing_Projects/new/data/alignments_clean_TOPHAT/RFH1437-MRTXR-DMSO-R1/accepted_hits.bam',\n",
       " '/rsrch4/home/mol_cgenesis/EMC_BIC_rsrch4/nkdang/Splicing_Projects/new/data/alignments_clean_TOPHAT/RFH1437-MRTXR-DMSO-R2/accepted_hits.bam',\n",
       " '/rsrch4/home/mol_cgenesis/EMC_BIC_rsrch4/nkdang/Splicing_Projects/new/data/alignments_clean_TOPHAT/RFH1437-MRTXR-DMSO-R3/accepted_hits.bam',\n",
       " '/rsrch4/home/mol_cgenesis/EMC_BIC_rsrch4/nkdang/Splicing_Projects/new/data/alignments_clean_TOPHAT/RFH1437-MRXTR-MRTX-R1/accepted_hits.bam',\n",
       " '/rsrch4/home/mol_cgenesis/EMC_BIC_rsrch4/nkdang/Splicing_Projects/new/data/alignments_clean_TOPHAT/RFH1437-MRXTR-MRTX-R2/accepted_hits.bam',\n",
       " '/rsrch4/home/mol_cgenesis/EMC_BIC_rsrch4/nkdang/Splicing_Projects/new/data/alignments_clean_TOPHAT/RFH1437-MRXTR-MRTX-R3/accepted_hits.bam',\n",
       " '/rsrch4/home/mol_cgenesis/EMC_BIC_rsrch4/nkdang/Splicing_Projects/new/data/alignments_clean_TOPHAT/Hela-WT_DMSO_4_day__Replicate_1/accepted_hits.bam',\n",
       " '/rsrch4/home/mol_cgenesis/EMC_BIC_rsrch4/nkdang/Splicing_Projects/new/data/alignments_clean_TOPHAT/Hela-WT_DMSO_4_day__Replicate_2/accepted_hits.bam',\n",
       " '/rsrch4/home/mol_cgenesis/EMC_BIC_rsrch4/nkdang/Splicing_Projects/new/data/alignments_clean_TOPHAT/Hela-WT_DMSO_4_day__Replicate_3/accepted_hits.bam',\n",
       " '/rsrch4/home/mol_cgenesis/EMC_BIC_rsrch4/nkdang/Splicing_Projects/new/data/alignments_clean_TOPHAT/Hela-WT_EPZ_4_day__Replicate_1/accepted_hits.bam',\n",
       " '/rsrch4/home/mol_cgenesis/EMC_BIC_rsrch4/nkdang/Splicing_Projects/new/data/alignments_clean_TOPHAT/Hela-WT_EPZ_4_day__Replicate_2/accepted_hits.bam',\n",
       " '/rsrch4/home/mol_cgenesis/EMC_BIC_rsrch4/nkdang/Splicing_Projects/new/data/alignments_clean_TOPHAT/Hela-WT_EPZ_4_day__Replicate_3/accepted_hits.bam',\n",
       " '/rsrch4/home/mol_cgenesis/EMC_BIC_rsrch4/nkdang/Splicing_Projects/new/data/alignments_clean_TOPHAT/Hela_sgSART3-KO__4__Pos_pCW-GFP-EV_M2__Replicate_1/accepted_hits.bam',\n",
       " '/rsrch4/home/mol_cgenesis/EMC_BIC_rsrch4/nkdang/Splicing_Projects/new/data/alignments_clean_TOPHAT/Hela_sgSART3-KO__4__Pos_pCW-GFP-EV_M2__Replicate_2/accepted_hits.bam',\n",
       " '/rsrch4/home/mol_cgenesis/EMC_BIC_rsrch4/nkdang/Splicing_Projects/new/data/alignments_clean_TOPHAT/Hela_sgSART3-KO__4__Pos_pCW-GFP-EV_M2__Replicate_3/accepted_hits.bam',\n",
       " '/rsrch4/home/mol_cgenesis/EMC_BIC_rsrch4/nkdang/Splicing_Projects/new/data/alignments_clean_TOPHAT/Hela_sgSART3-KO__4__Pos_pCW-GFP-SART3-W377A_Replicate_1/accepted_hits.bam',\n",
       " '/rsrch4/home/mol_cgenesis/EMC_BIC_rsrch4/nkdang/Splicing_Projects/new/data/alignments_clean_TOPHAT/Hela_sgSART3-KO__4__Pos_pCW-GFP-SART3-W377A_Replicate_2/accepted_hits.bam',\n",
       " '/rsrch4/home/mol_cgenesis/EMC_BIC_rsrch4/nkdang/Splicing_Projects/new/data/alignments_clean_TOPHAT/Hela_sgSART3-KO__4__Pos_pCW-GFP-SART3-W377A_Replicate_3/accepted_hits.bam',\n",
       " '/rsrch4/home/mol_cgenesis/EMC_BIC_rsrch4/nkdang/Splicing_Projects/new/data/alignments_clean_TOPHAT/Hela_sgSART3-KO__4__Pos_pCW-GFP-SART3-WT_Replicate_1/accepted_hits.bam',\n",
       " '/rsrch4/home/mol_cgenesis/EMC_BIC_rsrch4/nkdang/Splicing_Projects/new/data/alignments_clean_TOPHAT/Hela_sgSART3-KO__4__Pos_pCW-GFP-SART3-WT_Replicate_2/accepted_hits.bam',\n",
       " '/rsrch4/home/mol_cgenesis/EMC_BIC_rsrch4/nkdang/Splicing_Projects/new/data/alignments_clean_TOPHAT/Hela_sgSART3-KO__4__Pos_pCW-GFP-SART3-WT_Replicate_3/accepted_hits.bam',\n",
       " '/rsrch4/home/mol_cgenesis/EMC_BIC_rsrch4/nkdang/Splicing_Projects/new/data/alignments_clean_TOPHAT/Hela_sgSART3-KO__4__Pos_pCW-GFP-SART3-Y112A_Replicate_1/accepted_hits.bam',\n",
       " '/rsrch4/home/mol_cgenesis/EMC_BIC_rsrch4/nkdang/Splicing_Projects/new/data/alignments_clean_TOPHAT/Hela_sgSART3-KO__4__Pos_pCW-GFP-SART3-Y112A_Replicate_2/accepted_hits.bam',\n",
       " '/rsrch4/home/mol_cgenesis/EMC_BIC_rsrch4/nkdang/Splicing_Projects/new/data/alignments_clean_TOPHAT/Hela_sgSART3-KO__4__Pos_pCW-GFP-SART3-Y112A_Replicate_3/accepted_hits.bam']"
      ]
     },
     "execution_count": 12,
     "metadata": {},
     "output_type": "execute_result"
    }
   ],
   "source": [
    "ls_h = []\n",
    "for file in Path(\"/rsrch4/home/mol_cgenesis/EMC_BIC_rsrch4/nkdang/Splicing_Projects/new/data/alignments_clean_TOPHAT\").glob(\"**/accepted_hits.bam\"):\n",
    "    if not str(file.parent.stem)[0].isdigit():   \n",
    "        ls_h.append(str(file))\n",
    "ls_h = sorted(ls_h, key=lambda x: x.split(\"/\")[-2][6:])\n",
    "ls_h"
   ]
  },
  {
   "cell_type": "code",
   "execution_count": 13,
   "metadata": {},
   "outputs": [
    {
     "name": "stdout",
     "output_type": "stream",
     "text": [
      "Job <23547797> is submitted to queue <medium>.\n",
      "Job <23547798> is submitted to queue <medium>.\n",
      "Job <23547799> is submitted to queue <medium>.\n",
      "Job <23547800> is submitted to queue <medium>.\n",
      "Job <23547801> is submitted to queue <medium>.\n",
      "Job <23547802> is submitted to queue <medium>.\n"
     ]
    },
    {
     "name": "stdout",
     "output_type": "stream",
     "text": [
      "Job <23547803> is submitted to queue <medium>.\n",
      "Job <23547804> is submitted to queue <medium>.\n",
      "Job <23547805> is submitted to queue <medium>.\n",
      "Job <23547806> is submitted to queue <medium>.\n",
      "Job <23547807> is submitted to queue <medium>.\n",
      "Job <23547808> is submitted to queue <medium>.\n",
      "Job <23547809> is submitted to queue <medium>.\n",
      "Job <23547810> is submitted to queue <medium>.\n",
      "Job <23547811> is submitted to queue <medium>.\n"
     ]
    }
   ],
   "source": [
    "name = \"rMATS\"  \n",
    "out_dir = Path(f\"/rsrch4/home/mol_cgenesis/EMC_BIC_rsrch4/nkdang/Splicing_Projects/new/{name}\")\n",
    "out_dir.mkdir(parents=True, exist_ok=True)\n",
    "\n",
    "log_dir = Path(\n",
    "    f\"/rsrch4/home/mol_cgenesis/EMC_BIC_rsrch4/nkdang/Splicing_Projects/new/log/{name}\")\n",
    "log_dir.mkdir(parents=True, exist_ok=True)\n",
    "\n",
    "path_lsf = Path(\n",
    "    f\"/rsrch4/home/mol_cgenesis/EMC_BIC_rsrch4/nkdang/Splicing_Projects/new/lsf/{name}\")\n",
    "path_lsf.mkdir(parents=True, exist_ok=True)\n",
    "\n",
    "\n",
    "# for g1, g2 in [([0,1,2],[3,4,5]),       # DMSO cells with DMSO vs. DMSO cells with MRTX treatment  \n",
    "#                ([6,7,8],[9,10,11]),     # MRTXR cells with DMSO vs. MRTXR cells with MRTX treatment         \n",
    "#                ([0,1,2],[6,7,8]),       # DMSO cells with DMSO vs. MRTXR cells with DMSO treatment\n",
    "#                ([3,4,5],[9,10,11]),     # DMSO cells with MRTX vs. MRTXR cells with MRTX treatment  \n",
    "               \n",
    "#                ([12,13,14],[15,16,17]), # DMSO cells with DMSO vs. DMSO cells with MRTX treatment  \n",
    "#                ([18,19,20],[21,22,23]), # MRTXR cells with DMSO vs. MRTXR cells with MRTX treatment         \n",
    "#                ([12,13,14],[18,19,20]), # DMSO cells with DMSO vs. MRTXR cells with DMSO treatment\n",
    "#                ([15,16,17],[21,22,23]), # DMSO cells with MRTX vs. MRTXR cells with MRTX treatment\n",
    "\n",
    "#                ([24,25,26],[27,28,29]), # DMSO-treatment vs EPZ-treatment samples\n",
    "               \n",
    "#                ([30,31,32],[36,37,38]), # EV vs WT \n",
    "#                ([30,31,32],[39,40,41]), # EV vs Mutant(Y112A)      \n",
    "#                ([30,31,32],[33,34,35]), # EV Mutant(W377A)\n",
    "#                ([36,37,38],[39,40,41]), # WT vs Mutant(Y112A)\n",
    "#                ([36,37,38],[33,34,35]), # WT vs Mutant(W377A)\n",
    "#                ([39,40,41],[33,34,35])]:# Mutant(Y112A) vs Mutant(Y112A)\n",
    "for k1, k2, filename in [(\"RFH838-DMSOR-DMSO\",\"RFH838-DMSOR-MRTX\", \"Rongjie_H838_DMSOR-DMSO_DMSOR-MRTX\"),\n",
    "                         (\"RFH838-MRTXR-DMSO\",\"RFH838-MRXTR-MRTX\", \"Rongjie_H838_MRTXR-DMSO_MRXTR-MRTX\"),\n",
    "                         (\"RFH838-DMSOR-DMSO\",\"RFH838-MRTXR-DMSO\", \"Rongjie_H838_DMSOR-DMSO_MRTXR-DMSO\"),\n",
    "                         (\"RFH838-DMSOR-MRTX\",\"RFH838-MRXTR-MRTX\", \"Rongjie_H838_DMSOR-MRTX_MRXTR-MRTX\"),\n",
    "                         \n",
    "                         (\"RFH1437-DMSOR-DMSO\",\"RFH1437-DMSOR-MRTX\", \"Rongjie_RFH1437_DMSOR-DMSO_DMSOR-MRTX\"),\n",
    "                         (\"RFH1437-MRTXR-DMSO\",\"RFH1437-MRXTR-MRTX\", \"Rongjie_RFH1437_MRTXR-DMSO_MRXTR-MRTX\"),\n",
    "                         (\"RFH1437-DMSOR-DMSO\",\"RFH1437-MRTXR-DMSO\", \"Rongjie_RFH1437_DMSOR-DMSO_MRTXR-DMSO\"),\n",
    "                         (\"RFH1437-DMSOR-MRTX\",\"RFH1437-MRXTR-MRTX\", \"Rongjie_RFH1437_DMSOR-MRTX_MRXTR-MRTX\"),\n",
    "                         \n",
    "                         (\"Hela-WT_DMSO\",\"Hela-WT_EPZ\", \"Yalong_WT-DMSO_WT-EPZ\"),\n",
    "\n",
    "                         (\"-EV_M2__\",\"-SART3-W377A\", \"Yalong_EV_W377A\"),\n",
    "                         (\"-EV_M2__\",\"-SART3-WT_\", \"Yalong_EV_WT\"),\n",
    "                         (\"-EV_M2__\",\"-SART3-Y112A_\", \"Yalong_EV_Y112A\"),\n",
    "                         (\"-SART3-WT_\",\"-SART3-W377A\", \"Yalong_WT_W377A\"),\n",
    "                         (\"-SART3-WT_\",\"-SART3-Y112A_\", \"Yalong_WT_Y112A\"),\n",
    "                         (\"-SART3-W377A\",\"-SART3-Y112A_\", \"Yalong_W377A_Y112A\")]:\n",
    "\n",
    "    g1 = [i for i in ls_h if k1 in i]\n",
    "    g2 = [i for i in ls_h if k2 in i]\n",
    "    Path(f\"rMATS/human/{filename}\").mkdir(parents=True, exist_ok=True)\n",
    "    Path(f\"rMATS/human/temp/{filename}\").mkdir(parents=True, exist_ok=True)\n",
    "    b1 = f\"/rsrch4/home/mol_cgenesis/EMC_BIC_rsrch4/nkdang/Splicing_Projects/new/rMATS/input/{filename}_s1.txt\"\n",
    "    with open(b1, \"w+\") as f:\n",
    "        f.write(','.join(g1))\n",
    "    b2 = f\"/rsrch4/home/mol_cgenesis/EMC_BIC_rsrch4/nkdang/Splicing_Projects/new/rMATS/input/{filename}_s2.txt\"\n",
    "    with open(b2, \"w+\") as f:\n",
    "        f.write(','.join(g2))\n",
    "    command = f\"#BSUB -W 24:00\\n\" \\\n",
    "                f\"#BSUB -q medium\\n\" \\\n",
    "                f\"#BSUB -n 12\\n\" \\\n",
    "                f\"#BSUB -M 128\\n\" \\\n",
    "                f\"#BSUB -R rusage[mem=128]\\n\" \\\n",
    "                \"#BSUB –u nkdang@mdanderson.org\\n\" \\\n",
    "                f\"#BSUB -J rMATS_{filename}\\n\" \\\n",
    "                f\"#BSUB -o {log_dir.joinpath(filename+'.log')}\\n\" \\\n",
    "                f\"#BSUB –cwd /rsrch4/home/mol_cgenesis/EMC_BIC_rsrch4/nkdang/Splicing_Projects\\n\" \\\n",
    "                f\"python /rsrch4/home/mol_cgenesis/nkdang/mambaforge/envs/rnaseq/rMATS/rmats.py --b1 {b1} --b2 {b2} --gtf ref/gencode.v42.primary_assembly.annotation.gtf --bi ref/h38_index -t paired --readLength 150 --nthread 12 --od new/rMATS/human/{filename} --tmp new/rMATS/human/temp/{filename}\"\n",
    "\n",
    "    with open(path_lsf.joinpath(f'{filename}.lsf'), \"w+\") as out:\n",
    "        out.writelines(command)\n",
    "\n",
    "    command = f\"bsub < {path_lsf.joinpath(f'{filename}.lsf')}\"\n",
    "    # print(command)\n",
    "    subprocess.Popen(command, shell=True)"
   ]
  },
  {
   "cell_type": "code",
   "execution_count": null,
   "metadata": {},
   "outputs": [],
   "source": []
  }
 ],
 "metadata": {
  "kernelspec": {
   "display_name": "rnaseq",
   "language": "python",
   "name": "python3"
  },
  "language_info": {
   "codemirror_mode": {
    "name": "ipython",
    "version": 3
   },
   "file_extension": ".py",
   "mimetype": "text/x-python",
   "name": "python",
   "nbconvert_exporter": "python",
   "pygments_lexer": "ipython3",
   "version": "3.9.16"
  },
  "orig_nbformat": 4,
  "vscode": {
   "interpreter": {
    "hash": "f466e0a83e05f58a6811402e4bba84a917e14410c8ae6f873f70d9ea619f8ec5"
   }
  }
 },
 "nbformat": 4,
 "nbformat_minor": 2
}
