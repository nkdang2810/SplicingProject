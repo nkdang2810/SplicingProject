{
 "cells": [
  {
   "cell_type": "code",
   "execution_count": 23,
   "metadata": {},
   "outputs": [],
   "source": [
    "from pathlib import Path\n",
    "import pandas as pd\n",
    "import matplotlib.pyplot as plt\n",
    "from matplotlib_venn import venn2, venn3"
   ]
  },
  {
   "cell_type": "code",
   "execution_count": 26,
   "metadata": {},
   "outputs": [],
   "source": [
    "out_dir = Path(\"/rsrch4/home/mol_cgenesis/EMC_BIC_rsrch4/nkdang/Splicing_Projects/results/viz/venn\")\n",
    "out_dir.mkdir(parents=True, exist_ok=True)\n",
    "\n",
    "def draw_venn(set1, set2, set3=None, labels=tuple(['set1','set2','set3']), title='Untitle', out_path=Path.cwd()):\n",
    "    out_path.mkdir(parents=True, exist_ok=True)\n",
    "    if set3:\n",
    "        if len(labels)!=3:\n",
    "            return \"Wrong number of labels\"\n",
    "        else:\n",
    "            intersect12 = set(set1).intersection(set(set2))\n",
    "            intersect23 = set(set2).intersection(set(set3))\n",
    "            intersect13 = set(set1).intersection(set(set3))\n",
    "            intersect123 = set(set1).intersection(set(set2)).intersection(set(set3))\n",
    "            venn3(subsets={'100': len(set1)-len(intersect12)-len(intersect13)+len(intersect123), \n",
    "                           '010': len(set2)-len(intersect12)-len(intersect23)+len(intersect123), \n",
    "                           '110': len(intersect12)-len(intersect123),\n",
    "                           '001': len(set3)-len(intersect13)-len(intersect23)+len(intersect123), \n",
    "                           '101': len(intersect13)-len(intersect123), \n",
    "                           '011': len(intersect23)-len(intersect123),\n",
    "                           '111': len(intersect123)}, set_labels=labels)\n",
    "            plt.title(title)\n",
    "            plt.savefig(out_path.joinpath(\"fig.png\"), dpi=300)\n",
    "            plt.close()\n",
    "            with open(out_path.joinpath(f\"sharedGenes_{labels[0]}_{labels[1]}.txt\"), 'w') as fp:\n",
    "                fp.writelines([i+\"\\n\" for i in intersect12])\n",
    "            with open(out_path.joinpath(f\"sharedGenes_{labels[0]}_{labels[2]}.txt\"), 'w') as fp:\n",
    "                fp.writelines([i+\"\\n\" for i in intersect13])\n",
    "            with open(out_path.joinpath(f\"sharedGenes_{labels[1]}_{labels[2]}.txt\"), 'w') as fp:\n",
    "                fp.writelines([i+\"\\n\" for i in intersect23])\n",
    "            with open(out_path.joinpath(f\"sharedGenes_{labels[0]}_{labels[1]}_{labels[2]}.txt\"), 'w') as fp:\n",
    "                fp.writelines([i+\"\\n\" for i in intersect123])\n",
    "    else:\n",
    "        if len(labels)!=2:\n",
    "            return \"Wrong number of labels\"\n",
    "        else:\n",
    "            intersect12 = set(set1).intersection(set(set2))\n",
    "            venn2(subsets={'10': len(set1)-len(intersect12), \n",
    "                           '01': len(set2)-len(intersect12), \n",
    "                           '11': len(intersect12)}, set_labels=labels)\n",
    "            plt.title(title)\n",
    "            plt.savefig(out_path.joinpath(\"fig.png\"), dpi=300)\n",
    "            plt.close()\n",
    "            with open(out_path.joinpath(f\"sharedGenes_{labels[0]}_{labels[1]}.txt\"), 'w') as fp:\n",
    "                fp.writelines([i+\"\\n\" for i in intersect12])"
   ]
  },
  {
   "cell_type": "code",
   "execution_count": 32,
   "metadata": {},
   "outputs": [],
   "source": [
    "for mut in ['W377A','Y112A']:\n",
    "    df1 = pd.read_csv(f\"/rsrch4/home/mol_cgenesis/EMC_BIC_rsrch4/nkdang/Splicing_Projects/results/new/DE_featureCounts/Yalong/EV_WT/EV_WT/Yalong_Hela_EV_WT_sig.csv\", index_col=0)\n",
    "    df2 = pd.read_csv(f\"/rsrch4/home/mol_cgenesis/EMC_BIC_rsrch4/nkdang/Splicing_Projects/results/new/DE_featureCounts/Yalong/EV_WT/{mut}_EV/Yalong_Hela_{mut}_EV_sig.csv\", index_col=0)\n",
    "    df3 = pd.read_csv(f\"/rsrch4/home/mol_cgenesis/EMC_BIC_rsrch4/nkdang/Splicing_Projects/results/new/DE_featureCounts/Yalong/EV_WT/{mut}_WT/Yalong_Hela_{mut}_WT_sig.csv\", index_col=0)\n",
    "\n",
    "    temp1 = [i for i in df1[df1['log2FoldChange']>0].index]\n",
    "    temp2 = [i for i in df2[df2['log2FoldChange']>0].index]\n",
    "    temp3 = [i for i in df3[df3['log2FoldChange']>0].index]\n",
    "    draw_venn(temp1,temp2,labels=tuple([\"EV_WT\",f\"{mut}_EV\"]), title=\"Venn - up regulated significant genes\", out_path=out_dir.joinpath(\"Yalong\").joinpath(f\"{mut}_WT\").joinpath(f\"EV_WT-{mut}_EV_up\"))\n",
    "    draw_venn(temp2,temp3,labels=tuple([f\"{mut}_EV\",f\"{mut}_WT\"]), title=\"Venn - up regulated significant genes\", out_path=out_dir.joinpath(\"Yalong\").joinpath(f\"{mut}_WT\").joinpath(f\"{mut}_EV-{mut}_WT_up\"))\n",
    "    draw_venn(temp1,temp3,labels=tuple([\"EV_WT\",f\"{mut}_WT\"]), title=\"Venn - up regulated significant genes\", out_path=out_dir.joinpath(\"Yalong\").joinpath(f\"{mut}_WT\").joinpath(f\"EV_WT-{mut}_WT_up\"))\n",
    "    draw_venn(temp1,temp2,temp3,labels=tuple([\"EV_WT\",f\"{mut}_EV\",f\"{mut}_WT\"]), title=\"Venn - up regulated significant genes\", out_path=out_dir.joinpath(\"Yalong\").joinpath(f\"{mut}_WT\").joinpath(f\"EV_WT-{mut}_EV-{mut}_WT_up\"))\n",
    "\n",
    "    temp1 = [i for i in df1[df1['log2FoldChange']<0].index]\n",
    "    temp2 = [i for i in df2[df2['log2FoldChange']<0].index]\n",
    "    temp3 = [i for i in df3[df3['log2FoldChange']<0].index]\n",
    "    draw_venn(temp1,temp2,labels=tuple([\"EV_WT\",f\"{mut}_EV\"]), title=\"Venn - down regulated significant genes\", out_path=out_dir.joinpath(\"Yalong\").joinpath(f\"{mut}_WT\").joinpath(f\"EV_WT-{mut}_EV_down\"))\n",
    "    draw_venn(temp2,temp3,labels=tuple([f\"{mut}_EV\",f\"{mut}_WT\"]), title=\"Venn - down regulated significant genes\", out_path=out_dir.joinpath(\"Yalong\").joinpath(f\"{mut}_WT\").joinpath(f\"{mut}_EV-{mut}_WT_down\"))\n",
    "    draw_venn(temp1,temp3,labels=tuple([\"EV_WT\",f\"{mut}_WT\"]), title=\"Venn - down regulated significant genes\", out_path=out_dir.joinpath(\"Yalong\").joinpath(f\"{mut}_WT\").joinpath(f\"EV_WT-{mut}_WT_down\"))\n",
    "    draw_venn(temp1,temp2,temp3,labels=tuple([\"EV_WT\",f\"{mut}_EV\",f\"{mut}_WT\"]), title=\"Venn - down regulated significant genes\", out_path=out_dir.joinpath(\"Yalong\").joinpath(f\"{mut}_WT\").joinpath(f\"EV_WT-{mut}_EV-{mut}_WT_down\"))"
   ]
  },
  {
   "cell_type": "code",
   "execution_count": null,
   "metadata": {},
   "outputs": [],
   "source": []
  }
 ],
 "metadata": {
  "kernelspec": {
   "display_name": "rnaseq",
   "language": "python",
   "name": "python3"
  },
  "language_info": {
   "codemirror_mode": {
    "name": "ipython",
    "version": 3
   },
   "file_extension": ".py",
   "mimetype": "text/x-python",
   "name": "python",
   "nbconvert_exporter": "python",
   "pygments_lexer": "ipython3",
   "version": "3.9.16"
  },
  "orig_nbformat": 4,
  "vscode": {
   "interpreter": {
    "hash": "f466e0a83e05f58a6811402e4bba84a917e14410c8ae6f873f70d9ea619f8ec5"
   }
  }
 },
 "nbformat": 4,
 "nbformat_minor": 2
}
