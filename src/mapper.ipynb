{
 "cells": [
  {
   "cell_type": "code",
   "execution_count": 2,
   "metadata": {},
   "outputs": [],
   "source": [
    "from pathlib import Path\n",
    "import subprocess"
   ]
  },
  {
   "cell_type": "code",
   "execution_count": 3,
   "metadata": {},
   "outputs": [
    {
     "data": {
      "text/plain": [
       "['/rsrch4/home/mol_cgenesis/EMC_BIC_rsrch4/nkdang/Splicing_Projects/new/DE_htseq/Tanner/Tanner_Mouse_heatmap_sig.csv',\n",
       " '/rsrch4/home/mol_cgenesis/EMC_BIC_rsrch4/nkdang/Splicing_Projects/new/DE_htseq/Tanner/Tanner_Mouse_count_norm_all.csv',\n",
       " '/rsrch4/home/mol_cgenesis/EMC_BIC_rsrch4/nkdang/Splicing_Projects/new/DE_htseq/Tanner/KI_KO_WT/KO_WT/Tanner_Mouse_KO_WT_all.csv',\n",
       " '/rsrch4/home/mol_cgenesis/EMC_BIC_rsrch4/nkdang/Splicing_Projects/new/DE_htseq/Tanner/KI_KO_WT/KO_WT/Tanner_Mouse_KO_WT_sig.csv',\n",
       " '/rsrch4/home/mol_cgenesis/EMC_BIC_rsrch4/nkdang/Splicing_Projects/new/DE_htseq/Tanner/KI_KO_WT/KI_WT/Tanner_Mouse_KI_WT_sig.csv',\n",
       " '/rsrch4/home/mol_cgenesis/EMC_BIC_rsrch4/nkdang/Splicing_Projects/new/DE_htseq/Tanner/KI_KO_WT/KI_WT/Tanner_Mouse_KI_WT_all.csv',\n",
       " '/rsrch4/home/mol_cgenesis/EMC_BIC_rsrch4/nkdang/Splicing_Projects/new/DE_htseq/Tanner/KI_KO_WT/KO_KI/Tanner_Mouse_KO_KI_all.csv',\n",
       " '/rsrch4/home/mol_cgenesis/EMC_BIC_rsrch4/nkdang/Splicing_Projects/new/DE_htseq/Tanner/KI_KO_WT/KO_KI/Tanner_Mouse_KO_KI_sig.csv',\n",
       " '/rsrch4/home/mol_cgenesis/EMC_BIC_rsrch4/nkdang/Splicing_Projects/new/DE_htseq/Tanner/P5-OE_P5_WT/Tanner_Mouse_P5-OE_P5-WT_all.csv',\n",
       " '/rsrch4/home/mol_cgenesis/EMC_BIC_rsrch4/nkdang/Splicing_Projects/new/DE_htseq/Tanner/P5-OE_P5_WT/Tanner_Mouse_P5-OE_P5-WT_sig.csv']"
      ]
     },
     "execution_count": 3,
     "metadata": {},
     "output_type": "execute_result"
    }
   ],
   "source": [
    "files = [str(i) for i in Path(\"/rsrch4/home/mol_cgenesis/EMC_BIC_rsrch4/nkdang/Splicing_Projects/new/DE_htseq/Tanner\").glob(\"**/*.csv\")]\n",
    "# files = [str(i) for i in Path(\"/rsrch4/home/mol_cgenesis/EMC_BIC_rsrch4/nkdang/Splicing_Projects/new/DE_featureCounts/Yalong\").glob(\"**/*.csv\")]\n",
    "# files = [str(i) for i in Path(\"/rsrch4/home/mol_cgenesis/EMC_BIC_rsrch4/nkdang/Splicing_Projects/new/DE_featureCounts/Rongjie\").glob(\"**/*.csv\")]\n",
    "files"
   ]
  },
  {
   "cell_type": "code",
   "execution_count": 4,
   "metadata": {},
   "outputs": [
    {
     "data": {
      "text/plain": [
       "<Popen: returncode: None args: ['python', '/rsrch4/home/mol_cgenesis/EMC_BIC...>"
      ]
     },
     "execution_count": 4,
     "metadata": {},
     "output_type": "execute_result"
    },
    {
     "name": "stdout",
     "output_type": "stream",
     "text": [
      "\n",
      "\n",
      "GTF file is /rsrch4/home/mol_cgenesis/EMC_BIC_rsrch4/nkdang/Splicing_Projects/ref/gencode.vM31.primary_assembly.annotation.gtf\n",
      "10 input file(s) are:\n",
      "/rsrch4/home/mol_cgenesis/EMC_BIC_rsrch4/nkdang/Splicing_Projects/new/DE_htseq/Tanner/Tanner_Mouse_heatmap_sig.csv\n",
      "/rsrch4/home/mol_cgenesis/EMC_BIC_rsrch4/nkdang/Splicing_Projects/new/DE_htseq/Tanner/Tanner_Mouse_count_norm_all.csv\n",
      "/rsrch4/home/mol_cgenesis/EMC_BIC_rsrch4/nkdang/Splicing_Projects/new/DE_htseq/Tanner/KI_KO_WT/KO_WT/Tanner_Mouse_KO_WT_all.csv\n",
      "/rsrch4/home/mol_cgenesis/EMC_BIC_rsrch4/nkdang/Splicing_Projects/new/DE_htseq/Tanner/KI_KO_WT/KO_WT/Tanner_Mouse_KO_WT_sig.csv\n",
      "/rsrch4/home/mol_cgenesis/EMC_BIC_rsrch4/nkdang/Splicing_Projects/new/DE_htseq/Tanner/KI_KO_WT/KI_WT/Tanner_Mouse_KI_WT_sig.csv\n",
      "/rsrch4/home/mol_cgenesis/EMC_BIC_rsrch4/nkdang/Splicing_Projects/new/DE_htseq/Tanner/KI_KO_WT/KI_WT/Tanner_Mouse_KI_WT_all.csv\n",
      "/rsrch4/home/mol_cgenesis/EMC_BIC_rsrch4/nkdang/Splicing_Projects/new/DE_htseq/Tanner/KI_KO_WT/KO_KI/Tanner_Mouse_KO_KI_all.csv\n",
      "/rsrch4/home/mol_cgenesis/EMC_BIC_rsrch4/nkdang/Splicing_Projects/new/DE_htseq/Tanner/KI_KO_WT/KO_KI/Tanner_Mouse_KO_KI_sig.csv\n",
      "/rsrch4/home/mol_cgenesis/EMC_BIC_rsrch4/nkdang/Splicing_Projects/new/DE_htseq/Tanner/P5-OE_P5_WT/Tanner_Mouse_P5-OE_P5-WT_all.csv\n",
      "/rsrch4/home/mol_cgenesis/EMC_BIC_rsrch4/nkdang/Splicing_Projects/new/DE_htseq/Tanner/P5-OE_P5_WT/Tanner_Mouse_P5-OE_P5-WT_sig.csv\n",
      "\n",
      "\n",
      "Mapper genename exist. Load mapper\n",
      "Mapper description exist. Load mapper\n"
     ]
    },
    {
     "name": "stderr",
     "output_type": "stream",
     "text": [
      "100%|██████████| 10/10 [00:04<00:00,  2.15it/s]\n"
     ]
    }
   ],
   "source": [
    "# command = [\"python\", \n",
    "#             \"/rsrch4/home/mol_cgenesis/EMC_BIC_rsrch4/nkdang/Splicing_Projects/src/gene_mapping.py\",\n",
    "#             \"/rsrch4/home/mol_cgenesis/EMC_BIC_rsrch4/nkdang/Splicing_Projects/ref/gencode.v42.primary_assembly.annotation.gtf\",\n",
    "#             ]\n",
    "command = [\"python\", \n",
    "            \"/rsrch4/home/mol_cgenesis/EMC_BIC_rsrch4/nkdang/Splicing_Projects/src/gene_mapping.py\",\n",
    "            \"/rsrch4/home/mol_cgenesis/EMC_BIC_rsrch4/nkdang/Splicing_Projects/ref/gencode.vM31.primary_assembly.annotation.gtf\",\n",
    "            ]\n",
    "command.extend(files)\n",
    "subprocess.Popen(command)"
   ]
  },
  {
   "cell_type": "code",
   "execution_count": 5,
   "metadata": {},
   "outputs": [
    {
     "data": {
      "text/plain": [
       "<Popen: returncode: None args: ['python', '/rsrch4/home/mol_cgenesis/EMC_BIC...>"
      ]
     },
     "execution_count": 5,
     "metadata": {},
     "output_type": "execute_result"
    },
    {
     "name": "stdout",
     "output_type": "stream",
     "text": [
      "\n",
      "\n",
      "GTF file is /rsrch4/home/mol_cgenesis/EMC_BIC_rsrch4/nkdang/Splicing_Projects/ref/gencode.vM31.primary_assembly.annotation.gtf\n",
      "1 input file(s) are:\n",
      "/rsrch4/home/mol_cgenesis/EMC_BIC_rsrch4/nkdang/Splicing_Projects/new/DE_htseq/mouses_clean.csv\n",
      "\n",
      "\n",
      "Mapper genename exist. Load mapper\n",
      "Mapper description exist. Load mapper\n",
      "\n",
      "\n",
      "GTF file is /rsrch4/home/mol_cgenesis/EMC_BIC_rsrch4/nkdang/Splicing_Projects/ref/gencode.v42.primary_assembly.annotation.gtf\n",
      "1 input file(s) are:\n",
      "/rsrch4/home/mol_cgenesis/EMC_BIC_rsrch4/nkdang/Splicing_Projects/new/DE_htseq/humans_clean.csv\n",
      "\n",
      "\n",
      "Mapper genename exist. Load mapper\n",
      "Mapper description exist. Load mapper\n"
     ]
    },
    {
     "name": "stderr",
     "output_type": "stream",
     "text": [
      "100%|██████████| 1/1 [00:00<00:00,  1.34it/s]\n",
      "100%|██████████| 1/1 [00:01<00:00,  1.17s/it]\n"
     ]
    }
   ],
   "source": [
    "command = [\"python\", \n",
    "            \"/rsrch4/home/mol_cgenesis/EMC_BIC_rsrch4/nkdang/Splicing_Projects/src/gene_mapping.py\",\n",
    "            \"/rsrch4/home/mol_cgenesis/EMC_BIC_rsrch4/nkdang/Splicing_Projects/ref/gencode.vM31.primary_assembly.annotation.gtf\",\n",
    "            \"/rsrch4/home/mol_cgenesis/EMC_BIC_rsrch4/nkdang/Splicing_Projects/new/DE_featureCounts/mouses_clean.csv\"]\n",
    "            \n",
    "subprocess.Popen(command)\n",
    "\n",
    "command = [\"python\", \n",
    "            \"/rsrch4/home/mol_cgenesis/EMC_BIC_rsrch4/nkdang/Splicing_Projects/src/gene_mapping.py\",\n",
    "            \"/rsrch4/home/mol_cgenesis/EMC_BIC_rsrch4/nkdang/Splicing_Projects/ref/gencode.v42.primary_assembly.annotation.gtf\",\n",
    "            \"/rsrch4/home/mol_cgenesis/EMC_BIC_rsrch4/nkdang/Splicing_Projects/new/DE_featureCounts/humans_clean.csv\"]\n",
    "subprocess.Popen(command)\n"
   ]
  },
  {
   "cell_type": "code",
   "execution_count": null,
   "metadata": {},
   "outputs": [],
   "source": []
  }
 ],
 "metadata": {
  "kernelspec": {
   "display_name": "rnaseq",
   "language": "python",
   "name": "python3"
  },
  "language_info": {
   "codemirror_mode": {
    "name": "ipython",
    "version": 3
   },
   "file_extension": ".py",
   "mimetype": "text/x-python",
   "name": "python",
   "nbconvert_exporter": "python",
   "pygments_lexer": "ipython3",
   "version": "3.9.16"
  },
  "orig_nbformat": 4,
  "vscode": {
   "interpreter": {
    "hash": "f466e0a83e05f58a6811402e4bba84a917e14410c8ae6f873f70d9ea619f8ec5"
   }
  }
 },
 "nbformat": 4,
 "nbformat_minor": 2
}
